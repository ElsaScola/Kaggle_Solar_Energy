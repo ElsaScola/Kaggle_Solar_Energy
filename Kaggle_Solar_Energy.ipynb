{
 "cells": [
  {
   "cell_type": "markdown",
   "metadata": {},
   "source": [
    "# Big Data Intelligence: Methods and Technologies\n",
    "\n",
    "# Assignment 3: Predicting Solar Energy Production\n",
    "## Authors:  Liana Mehrabyan and Elsa Scola Martín\n",
    "### Objective:\n",
    "Given a dataset from the Kaggle competition ”[AMS 2013-2014 Solar Energy Prediction Contest](https://www.kaggle.com/c/ams-2014-solar-energy-prediction-contest/)” the goal of this assignment is to use  meteorological  variables  forecasted  by GFS as input  attributes  to  a machine learning model that is able to estimate how much solar energy is going to be produced at one of the solar plants in Oklahoma.\n",
    "\n",
    "To solve this problem we focus in applying Pipelines among other techniques seen in class.\n",
    "\n",
    "### What is done in the Notebook: \n",
    "- Load the data and generate artificial missing values.\n",
    "- Split the train data in train and validation.\n",
    "- Perform a Decision Trees Pipeline.\n",
    "- Perform a KNN Pipeline.\n",
    "- Evaluate the results.\n",
    "- Decision Trees with Best Parameters on 300 features.\n",
    "- Choosing k best parameters from 300 features.\n",
    "- Perform Random Forest and Gradient Boosting on 75 features."
   ]
  },
  {
   "cell_type": "code",
   "execution_count": 142,
   "metadata": {},
   "outputs": [],
   "source": [
    "import pandas as pd\n",
    "from sklearn import preprocessing, tree, metrics\n",
    "from sklearn.preprocessing import MinMaxScaler\n",
    "from sklearn.impute import SimpleImputer\n",
    "import seaborn as sns\n",
    "import numpy as np\n",
    "from sklearn.pipeline import Pipeline\n",
    "from sklearn.model_selection import train_test_split,cross_val_score, KFold,RandomizedSearchCV, PredefinedSplit\n",
    "import matplotlib.pyplot as plt\n",
    "from sklearn.neighbors import KNeighborsRegressor\n",
    "from sklearn.ensemble import GradientBoostingRegressor,RandomForestRegressor\n",
    "from scipy.stats import sem \n",
    "from numpy.random import randint\n",
    "from sklearn.model_selection import GridSearchCV\n",
    "from sklearn.decomposition import PCA\n",
    "from sklearn.feature_selection import SelectKBest, SelectPercentile, chi2, f_classif, f_regression\n",
    "import xgboost as xgb"
   ]
  },
  {
   "cell_type": "markdown",
   "metadata": {},
   "source": [
    "## Data Loading and Artificial Missing Value Generation "
   ]
  },
  {
   "cell_type": "code",
   "execution_count": 2,
   "metadata": {
    "scrolled": true
   },
   "outputs": [
    {
     "name": "stdout",
     "output_type": "stream",
     "text": [
      "Lets put 263019 missing values in the train set\n",
      "\n",
      "Lets put 44017 missing values in the test set\n",
      "\n"
     ]
    }
   ],
   "source": [
    "train = pd.read_pickle('trainst1ns16.pkl')\n",
    "test = pd.read_pickle('testst1ns16.pkl')\n",
    "\n",
    "my_NIA = 100416083\n",
    "np.random.seed(my_NIA)\n",
    "\n",
    "how_many_nas = round(train.shape[0]*train.shape[1]*0.05)\n",
    "print('Lets put '+str(how_many_nas)+' missing values in the train set\\n')\n",
    "x_locations = randint(0, train.shape[0],size=how_many_nas)\n",
    "y_locations = randint(0, train.shape[1]-1,size=how_many_nas)\n",
    "for i in range(len(x_locations)):\n",
    "    train.iloc[x_locations[i], y_locations[i]] = np.nan\n",
    "\n",
    "how_many_nas = round(test.shape[0]*test.shape[1]*0.05)\n",
    "print('Lets put '+str(how_many_nas)+' missing values in the test set\\n')\n",
    "x_locations = randint(0, test.shape[0],size=how_many_nas)\n",
    "y_locations = randint(0, test.shape[1]-1,size=how_many_nas)\n",
    "for i in range(len(x_locations)):\n",
    "    test.iloc[x_locations[i], y_locations[i]] = np.nan\n",
    "\n",
    "    \n",
    "pd.to_pickle(train, \"trainst1ns16_with_nas.pkl\")\n",
    "pd.to_pickle(test, \"testst1ns16_with_nas.pkl\")"
   ]
  },
  {
   "cell_type": "code",
   "execution_count": 68,
   "metadata": {},
   "outputs": [],
   "source": [
    "train = pd.read_pickle(\"trainst1ns16_with_nas.pkl\")\n",
    "test = pd.read_pickle(\"testst1ns16_with_nas.pkl\")"
   ]
  },
  {
   "cell_type": "markdown",
   "metadata": {},
   "source": [
    "## Train/Validation Split "
   ]
  },
  {
   "cell_type": "code",
   "execution_count": 69,
   "metadata": {},
   "outputs": [],
   "source": [
    "X_train = train.iloc[:,:75].values\n",
    "y_train = train.energy.values\n",
    "X_test = test.iloc[:,:75].values\n",
    "y_test = test.energy.values"
   ]
  },
  {
   "cell_type": "code",
   "execution_count": 70,
   "metadata": {},
   "outputs": [],
   "source": [
    "validation_indices = np.zeros(train.shape[0])\n",
    "# Ten years for training, 2 years for validation\n",
    "validation_indices[:(10*365)] = -1\n",
    "tr_val_partition = PredefinedSplit(validation_indices)"
   ]
  },
  {
   "cell_type": "markdown",
   "metadata": {},
   "source": [
    "# Decision Trees Pipeline"
   ]
  },
  {
   "cell_type": "code",
   "execution_count": 72,
   "metadata": {
    "code_folding": [],
    "scrolled": true
   },
   "outputs": [
    {
     "name": "stdout",
     "output_type": "stream",
     "text": [
      "Fitting 1 folds for each of 34 candidates, totalling 34 fits\n"
     ]
    },
    {
     "name": "stderr",
     "output_type": "stream",
     "text": [
      "[Parallel(n_jobs=1)]: Using backend SequentialBackend with 1 concurrent workers.\n",
      "[Parallel(n_jobs=1)]: Done  34 out of  34 | elapsed:    9.9s finished\n"
     ]
    },
    {
     "name": "stdout",
     "output_type": "stream",
     "text": [
      "{'imputation__strategy': 'median', 'tree__min_samples_split': 32} -2693497.163258915\n",
      "2742625.990874382\n"
     ]
    }
   ],
   "source": [
    "\n",
    "param_grid = {  'imputation__strategy': list(['mean','median']),\n",
    "              'tree__min_samples_split': list(range(2,36,2))\n",
    "              \n",
    "}\n",
    "\n",
    "clf = Pipeline([\n",
    "        ('imputation',SimpleImputer()) ,\n",
    "  ('tree',tree.DecisionTreeRegressor())\n",
    "])\n",
    "\n",
    "\n",
    "np.random.seed(0)\n",
    "clf_DT = GridSearchCV(clf, \n",
    "                        param_grid,\n",
    "                        scoring='neg_mean_absolute_error',\n",
    "                        cv= tr_val_partition, n_jobs=1, verbose=1)\n",
    "\n",
    "clf_DT.fit(X_train,y_train)\n",
    "\n",
    "\n",
    "print(clf_DT.best_params_, clf_DT.best_score_)\n",
    "y_test_pred = clf_DT.predict(X_test)\n",
    "print(metrics.mean_absolute_error(y_test, y_test_pred))\n",
    "mae_DT = metrics.mean_absolute_error(y_test, y_test_pred)"
   ]
  },
  {
   "cell_type": "markdown",
   "metadata": {},
   "source": [
    "# KNN Pipeline"
   ]
  },
  {
   "cell_type": "code",
   "execution_count": 74,
   "metadata": {
    "scrolled": false
   },
   "outputs": [
    {
     "name": "stdout",
     "output_type": "stream",
     "text": [
      "Fitting 1 folds for each of 24 candidates, totalling 24 fits\n"
     ]
    },
    {
     "name": "stderr",
     "output_type": "stream",
     "text": [
      "[Parallel(n_jobs=1)]: Using backend SequentialBackend with 1 concurrent workers.\n",
      "[Parallel(n_jobs=1)]: Done  24 out of  24 | elapsed:    6.7s finished\n"
     ]
    },
    {
     "name": "stdout",
     "output_type": "stream",
     "text": [
      "{'KNN__n_neighbors': 24, 'imputation__strategy': 'mean'} -2376984.656849315\n",
      "1703775.0\n"
     ]
    }
   ],
   "source": [
    "param_grid = {'KNN__n_neighbors': list(range(2,26,2)),\n",
    "              'imputation__strategy': list(['mean','median'])}\n",
    "\n",
    "\n",
    "clf = Pipeline([\n",
    "        ('imputation',SimpleImputer()) ,\n",
    "  ('normalization', MinMaxScaler()),\n",
    "  ('KNN', KNeighborsRegressor())\n",
    "])\n",
    "\n",
    "\n",
    "np.random.seed(0)\n",
    "clf_KNN = GridSearchCV(clf, \n",
    "                        param_grid,\n",
    "                        scoring='neg_mean_absolute_error',\n",
    "                        cv= tr_val_partition, n_jobs=1, verbose=1)\n",
    "\n",
    "clf_KNN.fit(X_train,y_train)\n",
    "\n",
    "\n",
    "print(clf_KNN.best_params_, clf_KNN.best_score_)\n",
    "y_test_pred = clf_KNN.predict(X_test)\n",
    "print (metrics.median_absolute_error(y_test, y_test_pred))\n",
    "mae_KNN = metrics.mean_absolute_error(y_test, y_test_pred)"
   ]
  },
  {
   "cell_type": "markdown",
   "metadata": {},
   "source": [
    "## Results"
   ]
  },
  {
   "cell_type": "code",
   "execution_count": 165,
   "metadata": {},
   "outputs": [
    {
     "data": {
      "text/plain": [
       "Text(0.5, 1.0, 'MAE: KNN vs Decision Trees')"
      ]
     },
     "execution_count": 165,
     "metadata": {},
     "output_type": "execute_result"
    },
    {
     "data": {
      "image/png": "[encoded data removed]",
      "text/plain": [
       "<Figure size 432x288 with 1 Axes>"
      ]
     },
     "metadata": {},
     "output_type": "display_data"
    }
   ],
   "source": [
    "plt.bar(height=[mae_KNN, mae_DT],x=['KNN','DT'])\n",
    "plt.title('MAE: KNN vs Decision Trees')"
   ]
  },
  {
   "cell_type": "code",
   "execution_count": 76,
   "metadata": {
    "scrolled": true
   },
   "outputs": [
    {
     "data": {
      "text/plain": [
       "<matplotlib.legend.Legend at 0x12232c358>"
      ]
     },
     "execution_count": 76,
     "metadata": {},
     "output_type": "execute_result"
    },
    {
     "data": {
      "image/png": "[encoded data removed]",
      "text/plain": [
       "<Figure size 432x288 with 1 Axes>"
      ]
     },
     "metadata": {},
     "output_type": "display_data"
    }
   ],
   "source": [
    "plt.plot(list(range(2,36,2)),np.abs(clf_DT.cv_results_['mean_test_score'][:17]))\n",
    "plt.plot(list(range(2,36,2)),np.abs(clf_DT.cv_results_['mean_test_score'][17:]))\n",
    "plt.xlabel('min_samples_split')\n",
    "plt.title('MAE of Decision Trees: Mean vs Meadian')\n",
    "plt.legend(['Mean','Median'])"
   ]
  },
  {
   "cell_type": "code",
   "execution_count": 89,
   "metadata": {},
   "outputs": [
    {
     "data": {
      "text/plain": [
       "Text(0.5, 1.0, 'MAE of KNN: Mean vs Meadian')"
      ]
     },
     "execution_count": 89,
     "metadata": {},
     "output_type": "execute_result"
    },
    {
     "data": {
      "image/png": "[encoded data removed]",
      "text/plain": [
       "<Figure size 432x288 with 1 Axes>"
      ]
     },
     "metadata": {},
     "output_type": "display_data"
    }
   ],
   "source": [
    "plt.plot(list(range(2,26,2)),np.abs(clf_KNN.cv_results_['mean_test_score'][list(range(0,24,2))]))\n",
    "plt.plot(list(range(2,26,2)), np.abs(clf_KNN.cv_results_['mean_test_score'][list(range(1,25,2))]))\n",
    "plt.xlabel('n_neighbours')\n",
    "plt.legend(['Mean','Median'])\n",
    "plt.title('MAE of KNN: Mean vs Meadian')"
   ]
  },
  {
   "cell_type": "markdown",
   "metadata": {},
   "source": [
    "Based on the visualizations above, the imputation method we choose in further steps is imputation by median. This is done for the following reasons: \n",
    "- We will be using Decision Trees in further steps, and imputation by median was reported to yield the best score. Moreover the score gap between mean and median imputation is quite significant, although both of them have the same trend. \n",
    "- Even though hyperparameter tuning for KNN reported mean imputation to yield the best score, as seen in the figure, this difference is not as big as that of Decision Trees. In addition, even if we were to use KNN in further steps, trusting the elbow method, we would choose n_neighbours = 10 where this difference is even smaller. Hence, choosing mean over median woudln't be a significant improvement either. "
   ]
  },
  {
   "cell_type": "markdown",
   "metadata": {},
   "source": [
    "# 300 variables"
   ]
  },
  {
   "cell_type": "code",
   "execution_count": 166,
   "metadata": {},
   "outputs": [],
   "source": [
    "X_train = train.iloc[:,:300].values\n",
    "y_train = train.energy.values\n",
    "X_test = test.iloc[:,:300].values\n",
    "y_test = test.energy.values"
   ]
  },
  {
   "cell_type": "markdown",
   "metadata": {},
   "source": [
    "# Saving data imputed with the best methond\n",
    "\n"
   ]
  },
  {
   "cell_type": "code",
   "execution_count": 167,
   "metadata": {},
   "outputs": [],
   "source": [
    "imputer = SimpleImputer(strategy ='median') \n",
    "# Fitting the data to the imputer object \n",
    "#imputer = imputer.fit(X_train)  \n",
    "# Imputing the data      \n",
    "X_train = imputer.fit_transform(X_train) \n",
    "  \n",
    "# Fitting the data to the imputer object \n",
    "#imputer = imputer.fit(X_test)  \n",
    "# Imputing the data      \n",
    "X_test = imputer.transform(X_test)"
   ]
  },
  {
   "cell_type": "markdown",
   "metadata": {},
   "source": [
    "## Decision Trees with Best Parameters on 300 features"
   ]
  },
  {
   "cell_type": "code",
   "execution_count": 168,
   "metadata": {},
   "outputs": [],
   "source": [
    "clf = DecisionTreeClassifier(random_state=0, min_samples_split=32)\n",
    "clf.fit(X=X_train, y=y_train)\n",
    "y_pred = clf.predict(X_test)\n",
    "mean_absolute_error(y_test, y_pred)\n",
    "mae_DT300=mean_absolute_error(y_test, y_pred)"
   ]
  },
  {
   "cell_type": "code",
   "execution_count": 177,
   "metadata": {},
   "outputs": [
    {
     "name": "stdout",
     "output_type": "stream",
     "text": [
      "MAE Test: 5608680.383561644\n",
      "MAE_Train: 6802406.63574352\n"
     ]
    }
   ],
   "source": [
    "y_pred_train=clf.predict(X_train)\n",
    "print('MAE Test:',mean_absolute_error(y_pred_train,y_train))\n",
    "print('MAE_Train:', mae_DT300)"
   ]
  },
  {
   "cell_type": "code",
   "execution_count": 114,
   "metadata": {
    "scrolled": true
   },
   "outputs": [
    {
     "data": {
      "text/plain": [
       "Text(0.5, 1.0, 'MAE of Decision Trees')"
      ]
     },
     "execution_count": 114,
     "metadata": {},
     "output_type": "execute_result"
    },
    {
     "data": {
      "image/png": "[encoded data removed]",
      "text/plain": [
       "<Figure size 432x288 with 1 Axes>"
      ]
     },
     "metadata": {},
     "output_type": "display_data"
    }
   ],
   "source": [
    "plt.bar(height=[mae_DT300, mae_DT],x=['300 Features','75 Features'])\n",
    "plt.title('MAE of Decision Trees')"
   ]
  },
  {
   "cell_type": "markdown",
   "metadata": {},
   "source": [
    "As seen in the figure above, expanding feature set to 300 features did not improve MAE. Moreover, the difference between train and test errors is big (MAE_train>>MAE_test), hence, this model could be overfitting ."
   ]
  },
  {
   "cell_type": "markdown",
   "metadata": {},
   "source": [
    "### Choosing k best attributes"
   ]
  },
  {
   "cell_type": "code",
   "execution_count": 120,
   "metadata": {
    "scrolled": false
   },
   "outputs": [
    {
     "name": "stdout",
     "output_type": "stream",
     "text": [
      "Fitting 1 folds for each of 1275 candidates, totalling 1275 fits\n"
     ]
    },
    {
     "name": "stderr",
     "output_type": "stream",
     "text": [
      "[Parallel(n_jobs=4)]: Using backend LokyBackend with 4 concurrent workers.\n",
      "[Parallel(n_jobs=4)]: Done  42 tasks      | elapsed:    6.3s\n",
      "[Parallel(n_jobs=4)]: Done 617 tasks      | elapsed:   23.7s\n",
      "[Parallel(n_jobs=4)]: Done 1227 tasks      | elapsed:  1.2min\n",
      "[Parallel(n_jobs=4)]: Done 1275 out of 1275 | elapsed:  1.2min finished\n"
     ]
    },
    {
     "name": "stdout",
     "output_type": "stream",
     "text": [
      "CPU times: user 2.27 s, sys: 308 ms, total: 2.57 s\n",
      "Wall time: 1min 14s\n",
      "{'feature_selection__k': 72, 'regression__min_samples_split': 34} -2636535.349388781\n",
      "2821883.523774294\n"
     ]
    }
   ],
   "source": [
    "\n",
    "param_grid = {'feature_selection__k': np.arange(X_train.shape[1])+1,\n",
    "             'regression__min_samples_split': list(range(2,36,2))}\n",
    "\n",
    "clf = Pipeline([\n",
    "  ('feature_selection', SelectKBest(f_regression)),\n",
    "  ('regression', tree.DecisionTreeRegressor(random_state=0))\n",
    "])\n",
    "\n",
    "\n",
    "np.random.seed(0)\n",
    "clf_grid = GridSearchCV(clf, \n",
    "                        param_grid,\n",
    "                        scoring='neg_mean_absolute_error',\n",
    "                        cv= tr_val_partition, n_jobs=4, verbose=1)\n",
    "%time _ = clf_grid.fit(X_train,y_train)\n",
    "\n",
    "\n",
    "print(clf_grid.best_params_, clf_grid.best_score_)\n",
    "y_test_pred = clf_grid.predict(X_test)\n",
    "print(metrics.mean_absolute_error(y_test, y_test_pred))\n",
    "mae_kbest=metrics.mean_absolute_error(y_test, y_test_pred)"
   ]
  },
  {
   "cell_type": "code",
   "execution_count": 121,
   "metadata": {},
   "outputs": [
    {
     "data": {
      "text/plain": [
       "Text(0.5, 1.0, 'MAE of Decision Trees')"
      ]
     },
     "execution_count": 121,
     "metadata": {},
     "output_type": "execute_result"
    },
    {
     "data": {
      "image/png": "[encoded data removed]",
      "text/plain": [
       "<Figure size 432x288 with 1 Axes>"
      ]
     },
     "metadata": {},
     "output_type": "display_data"
    }
   ],
   "source": [
    "plt.bar(height=[mae_kbest, mae_DT],x=['72 Features','75 Features'])\n",
    "plt.title('MAE of Decision Trees')"
   ]
  },
  {
   "cell_type": "code",
   "execution_count": 124,
   "metadata": {},
   "outputs": [
    {
     "name": "stdout",
     "output_type": "stream",
     "text": [
      "Fitting 1 folds for each of 5100 candidates, totalling 5100 fits\n"
     ]
    },
    {
     "name": "stderr",
     "output_type": "stream",
     "text": [
      "[Parallel(n_jobs=4)]: Using backend LokyBackend with 4 concurrent workers.\n",
      "[Parallel(n_jobs=4)]: Done  62 tasks      | elapsed:    1.5s\n",
      "[Parallel(n_jobs=4)]: Done 362 tasks      | elapsed:   11.2s\n",
      "[Parallel(n_jobs=4)]: Done 862 tasks      | elapsed:   45.8s\n",
      "[Parallel(n_jobs=4)]: Done 1388 tasks      | elapsed:  1.7min\n",
      "[Parallel(n_jobs=4)]: Done 1838 tasks      | elapsed:  2.9min\n",
      "[Parallel(n_jobs=4)]: Done 2388 tasks      | elapsed:  4.7min\n",
      "[Parallel(n_jobs=4)]: Done 3038 tasks      | elapsed:  7.4min\n",
      "[Parallel(n_jobs=4)]: Done 3788 tasks      | elapsed: 11.1min\n",
      "[Parallel(n_jobs=4)]: Done 4638 tasks      | elapsed: 16.1min\n",
      "[Parallel(n_jobs=4)]: Done 5100 out of 5100 | elapsed: 19.1min finished\n"
     ]
    },
    {
     "name": "stdout",
     "output_type": "stream",
     "text": [
      "CPU times: user 12.7 s, sys: 1.7 s, total: 14.4 s\n",
      "Wall time: 19min 5s\n",
      "{'feature_selection__k': 208, 'regression__min_samples_split': 32} -2673319.7717544436\n",
      "2787856.5050531235\n"
     ]
    }
   ],
   "source": [
    "\n",
    "param_grid = {'feature_selection__k': np.arange(X_train.shape[1])+1,\n",
    "             'regression__min_samples_split': list(range(2,36,2))}\n",
    "\n",
    "clf = Pipeline([\n",
    "  ('feature_selection', SelectKBest(f_regression)),\n",
    "  ('regression', tree.DecisionTreeRegressor(random_state=0))\n",
    "])\n",
    "\n",
    "\n",
    "np.random.seed(0)\n",
    "clf_grid = GridSearchCV(clf, \n",
    "                        param_grid,\n",
    "                        scoring='neg_mean_absolute_error',\n",
    "                        cv= tr_val_partition, n_jobs=4, verbose=1)\n",
    "%time _ = clf_grid.fit(X_train,y_train)\n",
    "\n",
    "\n",
    "print(clf_grid.best_params_, clf_grid.best_score_)\n",
    "y_test_pred = clf_grid.predict(X_test)\n",
    "print(metrics.mean_absolute_error(y_test, y_test_pred))\n",
    "mae_kbest300=metrics.mean_absolute_error(y_test, y_test_pred)"
   ]
  },
  {
   "cell_type": "code",
   "execution_count": 178,
   "metadata": {},
   "outputs": [
    {
     "data": {
      "text/plain": [
       "Text(0.5, 1.0, 'MAE of Decision Trees')"
      ]
     },
     "execution_count": 178,
     "metadata": {},
     "output_type": "execute_result"
    },
    {
     "data": {
      "image/png": "[encoded data removed]",
      "text/plain": [
       "<Figure size 432x288 with 1 Axes>"
      ]
     },
     "metadata": {},
     "output_type": "display_data"
    }
   ],
   "source": [
    "plt.bar(height=[mae_DT300, mae_DT, mae_kbest300],x=['300 Features','75 Features', '208 Features'])\n",
    "plt.title('MAE of Decision Trees')"
   ]
  },
  {
   "cell_type": "markdown",
   "metadata": {},
   "source": [
    "Choosing k best parameters from 300 features resulted in 208 best. This however, did not improve the score obtained by first 75 features. Hence, we can conclude that 1 point (i.e 75 features) is enough to obtain best results.  "
   ]
  },
  {
   "cell_type": "markdown",
   "metadata": {},
   "source": [
    "# Random Forest and GB"
   ]
  },
  {
   "cell_type": "markdown",
   "metadata": {},
   "source": [
    "We hence go back to first 75 features only. "
   ]
  },
  {
   "cell_type": "code",
   "execution_count": 129,
   "metadata": {},
   "outputs": [],
   "source": [
    "X_train = X_train[:,:75]\n",
    "y_train = train.energy.values\n",
    "X_test = X_test[:,:75]\n",
    "y_test = test.energy.values"
   ]
  },
  {
   "cell_type": "markdown",
   "metadata": {},
   "source": [
    "### RF"
   ]
  },
  {
   "cell_type": "code",
   "execution_count": 148,
   "metadata": {},
   "outputs": [
    {
     "name": "stdout",
     "output_type": "stream",
     "text": [
      "Fitting 1 folds for each of 450 candidates, totalling 450 fits\n"
     ]
    },
    {
     "name": "stderr",
     "output_type": "stream",
     "text": [
      "[Parallel(n_jobs=4)]: Using backend LokyBackend with 4 concurrent workers.\n",
      "[Parallel(n_jobs=4)]: Done  42 tasks      | elapsed:  2.7min\n",
      "[Parallel(n_jobs=4)]: Done 192 tasks      | elapsed:  9.1min\n",
      "[Parallel(n_jobs=4)]: Done 442 tasks      | elapsed: 20.7min\n",
      "[Parallel(n_jobs=4)]: Done 450 out of 450 | elapsed: 20.8min finished\n"
     ]
    },
    {
     "name": "stdout",
     "output_type": "stream",
     "text": [
      "2122663.2704262272\n"
     ]
    },
    {
     "data": {
      "text/plain": [
       "({'max_depth': 35,\n",
       "  'max_features': 'sqrt',\n",
       "  'min_samples_leaf': 2,\n",
       "  'min_samples_split': 2,\n",
       "  'n_estimators': 100},\n",
       " 9932563953705.088)"
      ]
     },
     "execution_count": 148,
     "metadata": {},
     "output_type": "execute_result"
    }
   ],
   "source": [
    "param_grid = {'n_estimators': [int(x) for x in np.linspace(start = 50, stop = 100, num = 5)],\n",
    "               'max_features': ['auto', 'sqrt'],\n",
    "               'max_depth': [int(x) for x in np.linspace(10, 110, num = 5)],\n",
    "               'min_samples_split': [2, 5, 10],\n",
    "               'min_samples_leaf': [1, 2, 4]\n",
    "             }\n",
    "np.random.seed(0)\n",
    "clf = GridSearchCV(RandomForestRegressor(), \n",
    "                         param_grid,\n",
    "                         scoring='neg_mean_squared_error',\n",
    "                         cv=tr_val_partition, \n",
    "                         n_jobs=4, verbose=1\n",
    "                        )\n",
    "\n",
    "clf.fit(X=X_train, y=y_train)\n",
    "y_test_pred = clf.predict(X_test)\n",
    "print(metrics.mean_absolute_error(y_test, y_test_pred))\n",
    "clf.best_params_, -clf.best_score_\n",
    "mae_RF=metrics.mean_absolute_error(y_test, y_test_pred)"
   ]
  },
  {
   "cell_type": "code",
   "execution_count": 181,
   "metadata": {
    "scrolled": true
   },
   "outputs": [
    {
     "data": {
      "text/plain": [
       "Text(0.5, 1.0, 'MAE of Decision Trees vs RF')"
      ]
     },
     "execution_count": 181,
     "metadata": {},
     "output_type": "execute_result"
    },
    {
     "data": {
      "image/png": "[encoded data removed]",
      "text/plain": [
       "<Figure size 432x288 with 1 Axes>"
      ]
     },
     "metadata": {},
     "output_type": "display_data"
    }
   ],
   "source": [
    "plt.bar(height=[mae_DT300, mae_DT, mae_kbest300,mae_RF],x=['300 Features','75 Features', '208 Features','RF'])\n",
    "plt.title('MAE of Decision Trees vs RF')"
   ]
  },
  {
   "cell_type": "markdown",
   "metadata": {},
   "source": [
    "### GB"
   ]
  },
  {
   "cell_type": "code",
   "execution_count": null,
   "metadata": {
    "scrolled": false
   },
   "outputs": [],
   "source": [
    "param_grid = {'n_estimators': [int(x) for x in np.linspace(start = 50, stop = 100, num = 5)],\n",
    "               'max_depth': [int(x) for x in np.linspace(5, 110, num = 5)],\n",
    "               'min_samples_split': [2, 5, 10],\n",
    "              'learning_rate': [0.07,0.1,0.5,0.7]\n",
    "             }\n",
    "np.random.seed(0)\n",
    "clf = GridSearchCV(GradientBoostingRegressor(), \n",
    "                         param_grid,\n",
    "                         scoring='neg_mean_squared_error',\n",
    "                         cv=tr_val_partition, \n",
    "                         n_jobs=4, verbose=1\n",
    "                        )\n",
    "\n",
    "clf.fit(X=X_train, y=y_train)\n",
    "y_test_pred = clf.predict(X_test)\n",
    "print(metrics.mean_absolute_error(y_test, y_test_pred))\n",
    "clf.best_params_, -clf.best_score_\n",
    "mae_GB=metrics.mean_absolute_error(y_test, y_test_pred)"
   ]
  },
  {
   "cell_type": "markdown",
   "metadata": {},
   "source": [
    "## XGBoost\n"
   ]
  },
  {
   "cell_type": "code",
   "execution_count": 158,
   "metadata": {},
   "outputs": [
    {
     "name": "stdout",
     "output_type": "stream",
     "text": [
      "[22:04:18] WARNING: src/objective/regression_obj.cu:152: reg:linear is now deprecated in favor of reg:squarederror.\n",
      "2073997.8339017734\n"
     ]
    }
   ],
   "source": [
    "clf = xgb.XGBRegressor(colsample_bytree=0.4,\n",
    "                 gamma=0,                 \n",
    "                 learning_rate=0.07,\n",
    "                 max_depth=3,\n",
    "                 min_child_weight=1.5,                                                                  \n",
    "                 reg_alpha=0.75,\n",
    "                 reg_lambda=0.45,\n",
    "                 subsample=0.6,\n",
    "                 seed=42) \n",
    "\n",
    "\n",
    "clf.fit(X=X_train, y=y_train)\n",
    "y_test_pred = clf.predict(X_test)\n",
    "print(metrics.mean_absolute_error(y_test, y_test_pred))\n",
    "mae_XGB=metrics.mean_absolute_error(y_test, y_test_pred)"
   ]
  },
  {
   "cell_type": "code",
   "execution_count": 183,
   "metadata": {},
   "outputs": [
    {
     "data": {
      "text/plain": [
       "Text(0.5, 1.0, 'MAE of Decision Trees vs Ensemble Methods')"
      ]
     },
     "execution_count": 183,
     "metadata": {},
     "output_type": "execute_result"
    },
    {
     "data": {
      "image/png": "[encoded data removed]",
      "text/plain": [
       "<Figure size 432x288 with 1 Axes>"
      ]
     },
     "metadata": {},
     "output_type": "display_data"
    }
   ],
   "source": [
    "plt.bar(height=[mae_DT, mae_RF, mae_GB,  mae_XGB],x=['DT', 'RF','GB Sklearn','XGB'])\n",
    "plt.title('MAE of Decision Trees vs Ensemble Methods')"
   ]
  },
  {
   "cell_type": "code",
   "execution_count": 184,
   "metadata": {},
   "outputs": [
    {
     "name": "stdout",
     "output_type": "stream",
     "text": [
      "2073997.8339017734\n"
     ]
    }
   ],
   "source": [
    "print(mae_XGB)"
   ]
  },
  {
   "cell_type": "markdown",
   "metadata": {},
   "source": [
    "Ensemble methods were indeed able to improve results. While sklearn gradient boosting implementation performed relatively equal to random forests, xgboost overperformed all the methods tried out. \n",
    "Hence, the best method in the scope of these experements is: \n",
    "\n",
    "- XGBoost advanced gradient boosting method fit on data that were imputed using their median. \n",
    "- The best MAE achieved: 2073997.83"
   ]
  },
  {
   "cell_type": "code",
   "execution_count": null,
   "metadata": {},
   "outputs": [],
   "source": []
  }
 ],
 "metadata": {
  "kernelspec": {
   "display_name": "Python 3",
   "language": "python",
   "name": "python3"
  },
  "language_info": {
   "codemirror_mode": {
    "name": "ipython",
    "version": 3
   },
   "file_extension": ".py",
   "mimetype": "text/x-python",
   "name": "python",
   "nbconvert_exporter": "python",
   "pygments_lexer": "ipython3",
   "version": "3.7.1"
  }
 },
 "nbformat": 4,
 "nbformat_minor": 2
}
